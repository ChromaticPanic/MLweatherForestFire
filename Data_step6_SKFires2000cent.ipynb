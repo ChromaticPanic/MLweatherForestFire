{
 "cells": [
  {
   "cell_type": "code",
   "execution_count": 1,
   "metadata": {},
   "outputs": [],
   "source": [
    "\n",
    "# %pip install geopandas\n",
    "# %pip install shapely\n",
    "# %pip install pygeos\n",
    "# %pip install tensorflow-cpu\n",
    "# %pip install tensorflow-data-validation\n",
    "# %pip install tensorflow-transform\n",
    "# %pip install tensorflow-model-analysis\n",
    "# %pip install scikit-learn\n",
    "# %pip install scipy\n",
    "# %pip install matplotlib\n",
    "# %pip install python-dotenv\n",
    "# %pip install seaborn"
   ]
  },
  {
   "cell_type": "code",
   "execution_count": 2,
   "metadata": {},
   "outputs": [
    {
     "name": "stderr",
     "output_type": "stream",
     "text": [
      "f:\\Programs\\Miniconda3\\envs\\ml\\lib\\site-packages\\geopandas\\_compat.py:123: UserWarning: The Shapely GEOS version (3.11.1-CAPI-1.17.1) is incompatible with the GEOS version PyGEOS was compiled with (3.10.4-CAPI-1.16.2). Conversions between both will be slow.\n",
      "  warnings.warn(\n",
      "C:\\Users\\Red\\AppData\\Local\\Temp\\ipykernel_283124\\2341453823.py:3: UserWarning: Shapely 2.0 is installed, but because PyGEOS is also installed, GeoPandas will still use PyGEOS by default for now. To force to use and test Shapely 2.0, you have to set the environment variable USE_PYGEOS=0. You can do this before starting the Python process, or in your code before importing geopandas:\n",
      "\n",
      "import os\n",
      "os.environ['USE_PYGEOS'] = '0'\n",
      "import geopandas\n",
      "\n",
      "In a future release, GeoPandas will switch to using Shapely by default. If you are using PyGEOS directly (calling PyGEOS functions on geometries from GeoPandas), this will then stop working and you are encouraged to migrate from PyGEOS to Shapely 2.0 (https://shapely.readthedocs.io/en/latest/migration_pygeos.html).\n",
      "  import geopandas as gpd\n"
     ]
    }
   ],
   "source": [
    "import os\n",
    "import pandas as pd\n",
    "import geopandas as gpd\n",
    "import pygeos as pg\n",
    "import numpy as np\n",
    "import tensorflow as tf\n",
    "import tensorflow_data_validation as tfdv\n",
    "import sklearn as sk\n",
    "import scipy as sp\n",
    "import seaborn as sns\n",
    "from IPython.display import clear_output\n",
    "from matplotlib import pyplot as plt\n",
    "from shapely import wkt"
   ]
  },
  {
   "cell_type": "code",
   "execution_count": 4,
   "metadata": {},
   "outputs": [],
   "source": [
    "# The following lines adjust the granularity of reporting.\n",
    "#pd.options.display.max_rows = 10\n",
    "pd.options.display.float_format = \"{:.1f}\".format\n",
    "pd.set_option('display.max_columns', None)\n",
    "pd.set_option('display.max_rows', None)\n",
    "os.chdir('F:\\\\Uni Files\\\\4710\\\\4710 Project\\\\MLweatherForestFire')"
   ]
  },
  {
   "cell_type": "code",
   "execution_count": 5,
   "metadata": {},
   "outputs": [],
   "source": [
    "def getGPDfromPD(df: pd.DataFrame, geomCol: str, crs: str = \"EPSG:3978\") -> gpd.GeoDataFrame:\n",
    "    \"\"\"\n",
    "    Convert a pandas dataframe to a geopandas dataframe\n",
    "    :param df: pandas dataframe\n",
    "    :param geomCol: name of the geometry column\n",
    "    :param crs: coordinate reference system\n",
    "    :return: geopandas dataframe\n",
    "    \"\"\"\n",
    "    if 'geom' in df.columns:\n",
    "        df.rename(columns={'geom': 'geometry'}, inplace=True)\n",
    "\n",
    "    df[geomCol] = df[geomCol].apply(wkt.loads)\n",
    "    gdf = gpd.GeoDataFrame(df, geometry=geomCol, crs=crs)\n",
    "    return gdf"
   ]
  },
  {
   "cell_type": "code",
   "execution_count": 6,
   "metadata": {},
   "outputs": [],
   "source": [
    "provinces = \"Data/GEOProvincialBoundaries.csv\"\n",
    "dfProvinces = pd.read_csv(provinces)\n",
    "dfProvinces['geom'] = dfProvinces['geom'].apply(wkt.loads)\n",
    "gdfProvinces = gpd.GeoDataFrame(dfProvinces, geometry='geom', crs=\"EPSG:3347\")\n",
    "del dfProvinces\n",
    "del provinces"
   ]
  },
  {
   "cell_type": "code",
   "execution_count": 7,
   "metadata": {},
   "outputs": [],
   "source": [
    "# Load fire data\n",
    "fireTable = \"Data/GEOlgFireFifty.csv\"\n",
    "dfFire = pd.read_csv(fireTable)\n",
    "dfFire['geom'] = dfFire['geom'].apply(wkt.loads)\n",
    "gdfFire = gpd.GeoDataFrame(dfFire, geometry='geom', crs=\"EPSG:3347\")\n",
    "del dfFire\n",
    "del fireTable"
   ]
  },
  {
   "attachments": {},
   "cell_type": "markdown",
   "metadata": {},
   "source": [
    "##### plot both to check\n",
    "fig, ax = plt.subplots(figsize=(20, 20))\n",
    "gdfProvinces.plot(ax=ax, color='white', edgecolor='black')\n",
    "gdfFire.plot(ax=ax, color='red', markersize=1)\n"
   ]
  },
  {
   "cell_type": "code",
   "execution_count": 8,
   "metadata": {},
   "outputs": [],
   "source": [
    "centroids = \"Data/GEOlgFireFiftyCentroids.csv\"\n",
    "dfCentroids = pd.read_csv(centroids)\n",
    "dfCentroids['geom'] = dfCentroids['geom'].apply(wkt.loads)\n",
    "gdfCentroids = gpd.GeoDataFrame(dfCentroids, geometry='geom', crs=\"EPSG:3347\")\n",
    "del dfCentroids\n",
    "del centroids"
   ]
  },
  {
   "attachments": {},
   "cell_type": "markdown",
   "metadata": {},
   "source": [
    "##### plot both to check\n",
    "fig, ax = plt.subplots(figsize=(20, 20))\n",
    "gdfProvinces.plot(ax=ax, color='white', edgecolor='black')\n",
    "gdfCentroids.plot(ax=ax, color='red', markersize=1)\n"
   ]
  },
  {
   "cell_type": "code",
   "execution_count": 9,
   "metadata": {},
   "outputs": [],
   "source": [
    "gdfFire['size_ha_bin'] = pd.qcut(gdfFire['SIZE_HA'], 4, labels=False)\n",
    "gdfFire.drop(columns=['DECADE', 'CALC_HA', 'CFS_REF_ID', 'CAUSE', 'OUT_DATE'], inplace=True)"
   ]
  },
  {
   "cell_type": "code",
   "execution_count": 10,
   "metadata": {},
   "outputs": [],
   "source": [
    "# join fire with centroids\n",
    "gdfMerged = gdfFire.merge(gdfCentroids, on='EntryID', how='left')\n",
    "gdfMerged.set_geometry('geom_y')\n",
    "gdfMerged.drop(columns=['geom_x'], inplace=True)"
   ]
  },
  {
   "cell_type": "code",
   "execution_count": 11,
   "metadata": {},
   "outputs": [],
   "source": [
    "# use fire name where fire id is null\n",
    "gdfMerged['FIRE_ID'].fillna(gdfMerged['FIRENAME'], inplace=True)\n",
    "# use fire id where fire name is null\n",
    "gdfMerged['FIRENAME'].fillna(gdfMerged['FIRE_ID'], inplace=True)"
   ]
  },
  {
   "cell_type": "code",
   "execution_count": 12,
   "metadata": {},
   "outputs": [
    {
     "name": "stderr",
     "output_type": "stream",
     "text": [
      "f:\\Programs\\Miniconda3\\envs\\ml\\lib\\site-packages\\IPython\\core\\interactiveshell.py:3473: FutureWarning: The `op` parameter is deprecated and will be removed in a future release. Please use the `predicate` parameter instead.\n",
      "  if (await self.run_code(code, result,  async_=asy)):\n"
     ]
    }
   ],
   "source": [
    "# keep only fires in SK\n",
    "gdfMerged = gpd.GeoDataFrame(gdfMerged, geometry='geom_y', crs=\"EPSG:3347\")\n",
    "gdfMerged = gpd.sjoin(gdfMerged, gdfProvinces, how='left', op='within')\n"
   ]
  },
  {
   "cell_type": "code",
   "execution_count": 13,
   "metadata": {},
   "outputs": [
    {
     "data": {
      "text/html": [
       "<div>\n",
       "<style scoped>\n",
       "    .dataframe tbody tr th:only-of-type {\n",
       "        vertical-align: middle;\n",
       "    }\n",
       "\n",
       "    .dataframe tbody tr th {\n",
       "        vertical-align: top;\n",
       "    }\n",
       "\n",
       "    .dataframe thead th {\n",
       "        text-align: right;\n",
       "    }\n",
       "</style>\n",
       "<table border=\"1\" class=\"dataframe\">\n",
       "  <thead>\n",
       "    <tr style=\"text-align: right;\">\n",
       "      <th></th>\n",
       "      <th>EntryID</th>\n",
       "      <th>FIRE_ID</th>\n",
       "      <th>FIRENAME</th>\n",
       "      <th>YEAR</th>\n",
       "      <th>MONTH</th>\n",
       "      <th>DAY</th>\n",
       "      <th>REP_DATE</th>\n",
       "      <th>SIZE_HA</th>\n",
       "      <th>size_ha_bin</th>\n",
       "      <th>geom_y</th>\n",
       "      <th>index_right</th>\n",
       "      <th>provID</th>\n",
       "    </tr>\n",
       "  </thead>\n",
       "  <tbody>\n",
       "    <tr>\n",
       "      <th>0</th>\n",
       "      <td>1</td>\n",
       "      <td>HWF278</td>\n",
       "      <td>Birch Complex Fire</td>\n",
       "      <td>2015</td>\n",
       "      <td>7</td>\n",
       "      <td>6</td>\n",
       "      <td>2015-07-06</td>\n",
       "      <td>3329.7</td>\n",
       "      <td>2</td>\n",
       "      <td>POINT (4934547.488 2608092.858)</td>\n",
       "      <td>8.0</td>\n",
       "      <td>AB</td>\n",
       "    </tr>\n",
       "    <tr>\n",
       "      <th>1</th>\n",
       "      <td>2</td>\n",
       "      <td>HWF280</td>\n",
       "      <td>HWF280</td>\n",
       "      <td>2017</td>\n",
       "      <td>9</td>\n",
       "      <td>1</td>\n",
       "      <td>2017-09-01</td>\n",
       "      <td>13628.3</td>\n",
       "      <td>3</td>\n",
       "      <td>POINT (4820621.875 2904194.413)</td>\n",
       "      <td>8.0</td>\n",
       "      <td>AB</td>\n",
       "    </tr>\n",
       "    <tr>\n",
       "      <th>2</th>\n",
       "      <td>3</td>\n",
       "      <td>HWF286</td>\n",
       "      <td>HWF286</td>\n",
       "      <td>2004</td>\n",
       "      <td>7</td>\n",
       "      <td>15</td>\n",
       "      <td>2004-07-15</td>\n",
       "      <td>4257.6</td>\n",
       "      <td>2</td>\n",
       "      <td>POINT (4879486.406 2874903.284)</td>\n",
       "      <td>8.0</td>\n",
       "      <td>AB</td>\n",
       "    </tr>\n",
       "    <tr>\n",
       "      <th>3</th>\n",
       "      <td>15</td>\n",
       "      <td>LWF026</td>\n",
       "      <td>LWF026</td>\n",
       "      <td>2001</td>\n",
       "      <td>4</td>\n",
       "      <td>27</td>\n",
       "      <td>2001-04-27</td>\n",
       "      <td>656.2</td>\n",
       "      <td>1</td>\n",
       "      <td>POINT (5072729.959 2366897.953)</td>\n",
       "      <td>8.0</td>\n",
       "      <td>AB</td>\n",
       "    </tr>\n",
       "    <tr>\n",
       "      <th>4</th>\n",
       "      <td>16</td>\n",
       "      <td>LWF026</td>\n",
       "      <td>LWF026</td>\n",
       "      <td>2003</td>\n",
       "      <td>5</td>\n",
       "      <td>25</td>\n",
       "      <td>2003-05-25</td>\n",
       "      <td>1230.1</td>\n",
       "      <td>1</td>\n",
       "      <td>POINT (5037099.451 2246123.844)</td>\n",
       "      <td>8.0</td>\n",
       "      <td>AB</td>\n",
       "    </tr>\n",
       "  </tbody>\n",
       "</table>\n",
       "</div>"
      ],
      "text/plain": [
       "   EntryID FIRE_ID            FIRENAME  YEAR  MONTH  DAY    REP_DATE  SIZE_HA  \\\n",
       "0        1  HWF278  Birch Complex Fire  2015      7    6  2015-07-06   3329.7   \n",
       "1        2  HWF280              HWF280  2017      9    1  2017-09-01  13628.3   \n",
       "2        3  HWF286              HWF286  2004      7   15  2004-07-15   4257.6   \n",
       "3       15  LWF026              LWF026  2001      4   27  2001-04-27    656.2   \n",
       "4       16  LWF026              LWF026  2003      5   25  2003-05-25   1230.1   \n",
       "\n",
       "   size_ha_bin                           geom_y  index_right provID  \n",
       "0            2  POINT (4934547.488 2608092.858)          8.0     AB  \n",
       "1            3  POINT (4820621.875 2904194.413)          8.0     AB  \n",
       "2            2  POINT (4879486.406 2874903.284)          8.0     AB  \n",
       "3            1  POINT (5072729.959 2366897.953)          8.0     AB  \n",
       "4            1  POINT (5037099.451 2246123.844)          8.0     AB  "
      ]
     },
     "execution_count": 13,
     "metadata": {},
     "output_type": "execute_result"
    }
   ],
   "source": [
    "gdfMerged.head()"
   ]
  },
  {
   "cell_type": "code",
   "execution_count": 14,
   "metadata": {},
   "outputs": [],
   "source": [
    "gdfSaskFires = gdfMerged[gdfMerged['provID'] == 'SK']"
   ]
  },
  {
   "cell_type": "code",
   "execution_count": 15,
   "metadata": {},
   "outputs": [
    {
     "data": {
      "text/plain": [
       "EntryID        1558\n",
       "FIRE_ID        1558\n",
       "FIRENAME       1558\n",
       "YEAR           1558\n",
       "MONTH          1558\n",
       "DAY            1558\n",
       "REP_DATE       1558\n",
       "SIZE_HA        1558\n",
       "size_ha_bin    1558\n",
       "geom_y         1558\n",
       "index_right    1558\n",
       "provID         1558\n",
       "dtype: int64"
      ]
     },
     "execution_count": 15,
     "metadata": {},
     "output_type": "execute_result"
    }
   ],
   "source": [
    "gdfSaskFires.count()"
   ]
  },
  {
   "cell_type": "code",
   "execution_count": 17,
   "metadata": {},
   "outputs": [
    {
     "name": "stderr",
     "output_type": "stream",
     "text": [
      "C:\\Users\\Red\\AppData\\Local\\Temp\\ipykernel_283124\\2784367847.py:1: SettingWithCopyWarning: \n",
      "A value is trying to be set on a copy of a slice from a DataFrame\n",
      "\n",
      "See the caveats in the documentation: https://pandas.pydata.org/pandas-docs/stable/user_guide/indexing.html#returning-a-view-versus-a-copy\n",
      "  gdfSaskFires.rename(columns={'geom_y': 'geom'}, inplace=True)\n"
     ]
    },
    {
     "data": {
      "text/plain": [
       "EntryID        937\n",
       "FIRE_ID        937\n",
       "FIRENAME       937\n",
       "YEAR           937\n",
       "MONTH          937\n",
       "DAY            937\n",
       "REP_DATE       937\n",
       "SIZE_HA        937\n",
       "size_ha_bin    937\n",
       "geom           937\n",
       "index_right    937\n",
       "provID         937\n",
       "dtype: int64"
      ]
     },
     "execution_count": 17,
     "metadata": {},
     "output_type": "execute_result"
    }
   ],
   "source": [
    "gdfSaskFires.rename(columns={'geom_y': 'geom'}, inplace=True)\n",
    "gdfSaskFires = gdfSaskFires[gdfSaskFires['YEAR'] >= 2000]\n",
    "gdfSaskFires.count()"
   ]
  },
  {
   "cell_type": "code",
   "execution_count": null,
   "metadata": {},
   "outputs": [],
   "source": [
    "# save to csv GEOSKFiresAfter2000centroids.csv\n",
    "gdfSaskFires.to_csv('Data/GEOSKFiresAfter2000centroids.csv', index=False)"
   ]
  }
 ],
 "metadata": {
  "kernelspec": {
   "display_name": "ml",
   "language": "python",
   "name": "python3"
  },
  "language_info": {
   "codemirror_mode": {
    "name": "ipython",
    "version": 3
   },
   "file_extension": ".py",
   "mimetype": "text/x-python",
   "name": "python",
   "nbconvert_exporter": "python",
   "pygments_lexer": "ipython3",
   "version": "3.8.15 | packaged by conda-forge | (default, Nov 22 2022, 08:42:03) [MSC v.1929 64 bit (AMD64)]"
  },
  "vscode": {
   "interpreter": {
    "hash": "ef7e3ad1fe0a4a5293cd6ca311ffca45c667fb34d948e973384e8d54f12a93f1"
   }
  }
 },
 "nbformat": 4,
 "nbformat_minor": 2
}
