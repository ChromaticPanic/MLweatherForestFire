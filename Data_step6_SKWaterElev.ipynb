{
 "cells": [
  {
   "cell_type": "code",
   "execution_count": 1,
   "metadata": {},
   "outputs": [],
   "source": [
    "\n",
    "# %pip install geopandas\n",
    "# %pip install shapely\n",
    "# %pip install pygeos\n",
    "# %pip install tensorflow-cpu\n",
    "# %pip install tensorflow-data-validation\n",
    "# %pip install tensorflow-transform\n",
    "# %pip install tensorflow-model-analysis\n",
    "# %pip install scikit-learn\n",
    "# %pip install scipy\n",
    "# %pip install matplotlib\n",
    "# %pip install python-dotenv\n",
    "# %pip install seaborn"
   ]
  },
  {
   "cell_type": "code",
   "execution_count": 2,
   "metadata": {},
   "outputs": [
    {
     "name": "stderr",
     "output_type": "stream",
     "text": [
      "f:\\Programs\\Miniconda3\\envs\\ml\\lib\\site-packages\\geopandas\\_compat.py:123: UserWarning: The Shapely GEOS version (3.11.1-CAPI-1.17.1) is incompatible with the GEOS version PyGEOS was compiled with (3.10.4-CAPI-1.16.2). Conversions between both will be slow.\n",
      "  warnings.warn(\n",
      "C:\\Users\\Red\\AppData\\Local\\Temp\\ipykernel_288008\\2341453823.py:3: UserWarning: Shapely 2.0 is installed, but because PyGEOS is also installed, GeoPandas will still use PyGEOS by default for now. To force to use and test Shapely 2.0, you have to set the environment variable USE_PYGEOS=0. You can do this before starting the Python process, or in your code before importing geopandas:\n",
      "\n",
      "import os\n",
      "os.environ['USE_PYGEOS'] = '0'\n",
      "import geopandas\n",
      "\n",
      "In a future release, GeoPandas will switch to using Shapely by default. If you are using PyGEOS directly (calling PyGEOS functions on geometries from GeoPandas), this will then stop working and you are encouraged to migrate from PyGEOS to Shapely 2.0 (https://shapely.readthedocs.io/en/latest/migration_pygeos.html).\n",
      "  import geopandas as gpd\n"
     ]
    }
   ],
   "source": [
    "import os\n",
    "import pandas as pd\n",
    "import geopandas as gpd\n",
    "import pygeos as pg\n",
    "import numpy as np\n",
    "import tensorflow as tf\n",
    "import tensorflow_data_validation as tfdv\n",
    "import sklearn as sk\n",
    "import scipy as sp\n",
    "import seaborn as sns\n",
    "from IPython.display import clear_output\n",
    "from matplotlib import pyplot as plt\n",
    "from shapely import wkt"
   ]
  },
  {
   "cell_type": "code",
   "execution_count": 3,
   "metadata": {},
   "outputs": [],
   "source": [
    "# The following lines adjust the granularity of reporting.\n",
    "#pd.options.display.max_rows = 10\n",
    "pd.options.display.float_format = \"{:.1f}\".format\n",
    "pd.set_option('display.max_columns', None)\n",
    "pd.set_option('display.max_rows', None)\n",
    "os.chdir('F:\\\\Uni Files\\\\4710\\\\4710 Project\\\\MLweatherForestFire')"
   ]
  },
  {
   "cell_type": "code",
   "execution_count": 4,
   "metadata": {},
   "outputs": [],
   "source": [
    "def getGPDfromPD(df: pd.DataFrame, geomCol: str, crs: str = \"EPSG:3978\") -> gpd.GeoDataFrame:\n",
    "    \"\"\"\n",
    "    Convert a pandas dataframe to a geopandas dataframe\n",
    "    :param df: pandas dataframe\n",
    "    :param geomCol: name of the geometry column\n",
    "    :param crs: coordinate reference system\n",
    "    :return: geopandas dataframe\n",
    "    \"\"\"\n",
    "    if 'geom' in df.columns:\n",
    "        df.rename(columns={'geom': 'geometry'}, inplace=True)\n",
    "\n",
    "    df[geomCol] = df[geomCol].apply(wkt.loads)\n",
    "    gdf = gpd.GeoDataFrame(df, geometry=geomCol, crs=crs)\n",
    "    return gdf"
   ]
  },
  {
   "cell_type": "code",
   "execution_count": 5,
   "metadata": {},
   "outputs": [],
   "source": [
    "provinces = \"Data/GEOProvincialBoundaries.csv\"\n",
    "dfProvinces = pd.read_csv(provinces)\n",
    "dfProvinces['geom'] = dfProvinces['geom'].apply(wkt.loads)\n",
    "gdfProvinces = gpd.GeoDataFrame(dfProvinces, geometry='geom', crs=\"EPSG:3347\")\n",
    "del dfProvinces\n",
    "del provinces"
   ]
  },
  {
   "cell_type": "code",
   "execution_count": 6,
   "metadata": {},
   "outputs": [],
   "source": [
    "# Load fire data\n",
    "fireTable = \"Data/GEOSKFiresAfter2000centroids.csv\"\n",
    "dfFire = pd.read_csv(fireTable)\n",
    "dfFire['geom'] = dfFire['geom'].apply(wkt.loads)\n",
    "gdfFire = gpd.GeoDataFrame(dfFire, geometry='geom', crs=\"EPSG:3347\")\n",
    "del dfFire\n",
    "del fireTable"
   ]
  },
  {
   "cell_type": "code",
   "execution_count": null,
   "metadata": {},
   "outputs": [],
   "source": [
    "##### plot both to check\n",
    "fig, ax = plt.subplots(figsize=(20, 20))\n",
    "gdfProvinces.plot(ax=ax, color='white', edgecolor='black')\n",
    "gdfFire.plot(ax=ax, color='red', markersize=1)\n"
   ]
  },
  {
   "attachments": {},
   "cell_type": "markdown",
   "metadata": {},
   "source": [
    "##### plot both to check\n",
    "fig, ax = plt.subplots(figsize=(20, 20))\n",
    "gdfProvinces.plot(ax=ax, color='white', edgecolor='black')\n",
    "gdfCentroids.plot(ax=ax, color='red', markersize=1)\n"
   ]
  },
  {
   "cell_type": "code",
   "execution_count": 8,
   "metadata": {},
   "outputs": [],
   "source": [
    "# Load the data\n",
    "waterTable = \"Data/GEOWaterSources.csv\"\n",
    "dfWater = pd.read_csv(waterTable)\n",
    "dfWater['geom'] = dfWater['geom'].apply(wkt.loads)\n",
    "gdfWater = gpd.GeoDataFrame(dfWater, geometry='geom', crs=\"EPSG:3347\")\n",
    "del dfWater\n",
    "del waterTable"
   ]
  },
  {
   "cell_type": "markdown",
   "metadata": {},
   "source": [
    "# plot to check\n",
    "f1, ax1 = plt.subplots(figsize=(19.20, 10.80))\n",
    "dfProv.boundary.plot(ax=ax1, color=None, edgecolor='black', linewidth=1, aspect=1)\n",
    "dfWater.plot(ax=ax1, color='red', markersize=0.1, aspect=1)\n"
   ]
  },
  {
   "cell_type": "code",
   "execution_count": 9,
   "metadata": {},
   "outputs": [],
   "source": [
    "# Load fire data\n",
    "elevationTable = \"Data/GEOSKElevationPoints.csv\"\n",
    "dfElevation = pd.read_csv(elevationTable)\n",
    "dfElevation['geom'] = dfElevation['geom'].apply(wkt.loads)\n",
    "gdfElevation = gpd.GeoDataFrame(dfElevation, geometry='geom', crs=\"EPSG:3347\")\n",
    "del dfElevation\n",
    "del elevationTable\n",
    "\n",
    "# drop rows where e_u_en is Feet\n",
    "gdfElevation = gdfElevation[gdfElevation['e_u_en'] != 'Feet']"
   ]
  },
  {
   "cell_type": "code",
   "execution_count": 10,
   "metadata": {},
   "outputs": [],
   "source": [
    "# we find the closest point in dfElevation and store the elevation\n",
    "for index, row in gdfFire.iterrows():\n",
    "    gdfElevation['DISTANCE'] = gdfElevation['geom'].distance(row['geom'])\n",
    "    gdfElevation = gdfElevation.sort_values(by=['DISTANCE'])\n",
    "    gdfFire.at[index, 'ElevationM'] = gdfElevation.iloc[0]['e']\n",
    "\n",
    "# we find the closest point in dfWater and store the distance to water\n",
    "for index, row in gdfFire.iterrows():\n",
    "    gdfWater['DISTANCE'] = gdfWater['geom'].distance(row['geom'])\n",
    "    gdfWater = gdfWater.sort_values(by=['DISTANCE'])\n",
    "    gdfFire.at[index, 'Dist_To_Water'] = gdfWater.iloc[0]['DISTANCE']\n"
   ]
  },
  {
   "cell_type": "code",
   "execution_count": 11,
   "metadata": {},
   "outputs": [
    {
     "data": {
      "text/html": [
       "<div>\n",
       "<style scoped>\n",
       "    .dataframe tbody tr th:only-of-type {\n",
       "        vertical-align: middle;\n",
       "    }\n",
       "\n",
       "    .dataframe tbody tr th {\n",
       "        vertical-align: top;\n",
       "    }\n",
       "\n",
       "    .dataframe thead th {\n",
       "        text-align: right;\n",
       "    }\n",
       "</style>\n",
       "<table border=\"1\" class=\"dataframe\">\n",
       "  <thead>\n",
       "    <tr style=\"text-align: right;\">\n",
       "      <th></th>\n",
       "      <th>EntryID</th>\n",
       "      <th>FIRE_ID</th>\n",
       "      <th>FIRENAME</th>\n",
       "      <th>YEAR</th>\n",
       "      <th>MONTH</th>\n",
       "      <th>DAY</th>\n",
       "      <th>REP_DATE</th>\n",
       "      <th>SIZE_HA</th>\n",
       "      <th>size_ha_bin</th>\n",
       "      <th>geom</th>\n",
       "      <th>index_right</th>\n",
       "      <th>provID</th>\n",
       "      <th>ElevationM</th>\n",
       "      <th>Dist_To_Water</th>\n",
       "    </tr>\n",
       "  </thead>\n",
       "  <tbody>\n",
       "    <tr>\n",
       "      <th>0</th>\n",
       "      <td>631</td>\n",
       "      <td>L81022</td>\n",
       "      <td>08LA-SIMMER</td>\n",
       "      <td>2008</td>\n",
       "      <td>6</td>\n",
       "      <td>6</td>\n",
       "      <td>2008-06-06</td>\n",
       "      <td>34665.8</td>\n",
       "      <td>3</td>\n",
       "      <td>POINT (5379014.920 2318191.017)</td>\n",
       "      <td>7.0</td>\n",
       "      <td>SK</td>\n",
       "      <td>541.0</td>\n",
       "      <td>6094.2</td>\n",
       "    </tr>\n",
       "    <tr>\n",
       "      <th>1</th>\n",
       "      <td>638</td>\n",
       "      <td>L83027</td>\n",
       "      <td>08SE-ROCKY</td>\n",
       "      <td>2008</td>\n",
       "      <td>6</td>\n",
       "      <td>22</td>\n",
       "      <td>2008-06-22</td>\n",
       "      <td>245.9</td>\n",
       "      <td>0</td>\n",
       "      <td>POINT (5439865.094 2383987.264)</td>\n",
       "      <td>7.0</td>\n",
       "      <td>SK</td>\n",
       "      <td>463.0</td>\n",
       "      <td>8399.1</td>\n",
       "    </tr>\n",
       "    <tr>\n",
       "      <th>2</th>\n",
       "      <td>639</td>\n",
       "      <td>L83020</td>\n",
       "      <td>08SE-MARGARET</td>\n",
       "      <td>2008</td>\n",
       "      <td>6</td>\n",
       "      <td>5</td>\n",
       "      <td>2008-06-05</td>\n",
       "      <td>4420.9</td>\n",
       "      <td>2</td>\n",
       "      <td>POINT (5505362.854 2401492.903)</td>\n",
       "      <td>7.0</td>\n",
       "      <td>SK</td>\n",
       "      <td>436.0</td>\n",
       "      <td>4383.0</td>\n",
       "    </tr>\n",
       "    <tr>\n",
       "      <th>3</th>\n",
       "      <td>640</td>\n",
       "      <td>L83033</td>\n",
       "      <td>08SE-RYAN</td>\n",
       "      <td>2008</td>\n",
       "      <td>6</td>\n",
       "      <td>28</td>\n",
       "      <td>2008-06-28</td>\n",
       "      <td>5145.9</td>\n",
       "      <td>3</td>\n",
       "      <td>POINT (5603376.708 2394001.361)</td>\n",
       "      <td>7.0</td>\n",
       "      <td>SK</td>\n",
       "      <td>348.0</td>\n",
       "      <td>1294.8</td>\n",
       "    </tr>\n",
       "    <tr>\n",
       "      <th>4</th>\n",
       "      <td>641</td>\n",
       "      <td>L82091</td>\n",
       "      <td>08PN-MIROND</td>\n",
       "      <td>2008</td>\n",
       "      <td>6</td>\n",
       "      <td>21</td>\n",
       "      <td>2008-06-21</td>\n",
       "      <td>90178.4</td>\n",
       "      <td>3</td>\n",
       "      <td>POINT (5529848.118 2176596.410)</td>\n",
       "      <td>7.0</td>\n",
       "      <td>SK</td>\n",
       "      <td>1273.0</td>\n",
       "      <td>0.0</td>\n",
       "    </tr>\n",
       "  </tbody>\n",
       "</table>\n",
       "</div>"
      ],
      "text/plain": [
       "   EntryID FIRE_ID       FIRENAME  YEAR  MONTH  DAY    REP_DATE  SIZE_HA  \\\n",
       "0      631  L81022    08LA-SIMMER  2008      6    6  2008-06-06  34665.8   \n",
       "1      638  L83027     08SE-ROCKY  2008      6   22  2008-06-22    245.9   \n",
       "2      639  L83020  08SE-MARGARET  2008      6    5  2008-06-05   4420.9   \n",
       "3      640  L83033      08SE-RYAN  2008      6   28  2008-06-28   5145.9   \n",
       "4      641  L82091    08PN-MIROND  2008      6   21  2008-06-21  90178.4   \n",
       "\n",
       "   size_ha_bin                             geom  index_right provID  \\\n",
       "0            3  POINT (5379014.920 2318191.017)          7.0     SK   \n",
       "1            0  POINT (5439865.094 2383987.264)          7.0     SK   \n",
       "2            2  POINT (5505362.854 2401492.903)          7.0     SK   \n",
       "3            3  POINT (5603376.708 2394001.361)          7.0     SK   \n",
       "4            3  POINT (5529848.118 2176596.410)          7.0     SK   \n",
       "\n",
       "   ElevationM  Dist_To_Water  \n",
       "0       541.0         6094.2  \n",
       "1       463.0         8399.1  \n",
       "2       436.0         4383.0  \n",
       "3       348.0         1294.8  \n",
       "4      1273.0            0.0  "
      ]
     },
     "execution_count": 11,
     "metadata": {},
     "output_type": "execute_result"
    }
   ],
   "source": [
    "gdfFire.head()"
   ]
  },
  {
   "cell_type": "code",
   "execution_count": 12,
   "metadata": {},
   "outputs": [],
   "source": [
    "# save to csv GEOSKFireWaterElev.csv\n",
    "# gdfFire.to_csv('Data/GEOSKFireWaterElev.csv', index=False)"
   ]
  }
 ],
 "metadata": {
  "kernelspec": {
   "display_name": "ml",
   "language": "python",
   "name": "python3"
  },
  "language_info": {
   "codemirror_mode": {
    "name": "ipython",
    "version": 3
   },
   "file_extension": ".py",
   "mimetype": "text/x-python",
   "name": "python",
   "nbconvert_exporter": "python",
   "pygments_lexer": "ipython3",
   "version": "3.8.15 | packaged by conda-forge | (default, Nov 22 2022, 08:42:03) [MSC v.1929 64 bit (AMD64)]"
  },
  "vscode": {
   "interpreter": {
    "hash": "ef7e3ad1fe0a4a5293cd6ca311ffca45c667fb34d948e973384e8d54f12a93f1"
   }
  }
 },
 "nbformat": 4,
 "nbformat_minor": 2
}
