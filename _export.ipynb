{
 "cells": [
  {
   "cell_type": "code",
   "execution_count": null,
   "id": "dec88b7d-dad8-4634-a731-f2338cca7799",
   "metadata": {},
   "outputs": [],
   "source": [
    "#%pip install nbconvert"
   ]
  },
  {
   "cell_type": "code",
   "execution_count": 2,
   "id": "ecddc345-b240-4df6-8b38-64fd36c16de2",
   "metadata": {},
   "outputs": [],
   "source": [
    "import os"
   ]
  },
  {
   "cell_type": "code",
   "execution_count": 3,
   "id": "7005cb51-8ced-4b53-b73a-7c57f9da45dc",
   "metadata": {},
   "outputs": [
    {
     "name": "stderr",
     "output_type": "stream",
     "text": [
      "[NbConvertApp] Converting notebook _export.ipynb to python\n",
      "[NbConvertApp] Writing 238 bytes to _export.py\n",
      "[NbConvertApp] Converting notebook Data_step2_Evaluation.ipynb to python\n",
      "[NbConvertApp] Writing 869 bytes to Data_step2_Evaluation.py\n",
      "[NbConvertApp] Converting notebook Data_step1_db_onboarding.ipynb to python\n",
      "[NbConvertApp] Writing 1945 bytes to Data_step1_db_onboarding.py\n"
     ]
    }
   ],
   "source": [
    "for fname in os.listdir():\n",
    "    if fname.endswith('ipynb') and not fn\\ame.startswith(\"_\"):\n",
    "        os.system('jupyter nbconvert {} --to python'.format(fname))"
   ]
  },
  {
   "cell_type": "code",
   "execution_count": null,
   "id": "fd0b0d0e-a411-4aae-833c-6f53cc2e7770",
   "metadata": {},
   "outputs": [],
   "source": []
  }
 ],
 "metadata": {
  "kernelspec": {
   "display_name": "Python 3 (ipykernel)",
   "language": "python",
   "name": "python3"
  },
  "language_info": {
   "codemirror_mode": {
    "name": "ipython",
    "version": 3
   },
   "file_extension": ".py",
   "mimetype": "text/x-python",
   "name": "python",
   "nbconvert_exporter": "python",
   "pygments_lexer": "ipython3",
   "version": "3.8.10"
  }
 },
 "nbformat": 4,
 "nbformat_minor": 5
}
