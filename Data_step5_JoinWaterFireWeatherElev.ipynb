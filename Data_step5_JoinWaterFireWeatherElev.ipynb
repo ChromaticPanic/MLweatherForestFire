{
 "cells": [
  {
   "cell_type": "code",
   "execution_count": null,
   "metadata": {},
   "outputs": [],
   "source": []
  },
  {
   "cell_type": "code",
   "execution_count": 1,
   "metadata": {},
   "outputs": [
    {
     "name": "stderr",
     "output_type": "stream",
     "text": [
      "2022-11-30 06:37:56.567614: I tensorflow/core/platform/cpu_feature_guard.cc:193] This TensorFlow binary is optimized with oneAPI Deep Neural Network Library (oneDNN) to use the following CPU instructions in performance-critical operations:  AVX2 FMA\n",
      "To enable them in other operations, rebuild TensorFlow with the appropriate compiler flags.\n",
      "2022-11-30 06:37:56.915904: E tensorflow/stream_executor/cuda/cuda_blas.cc:2981] Unable to register cuBLAS factory: Attempting to register factory for plugin cuBLAS when one has already been registered\n"
     ]
    }
   ],
   "source": [
    "import os\n",
    "import pandas as pd\n",
    "import geopandas as gpd\n",
    "import pygeos as pg\n",
    "import numpy as np\n",
    "import tensorflow as tf\n",
    "import sqlalchemy as sq\n",
    "import calendar\n",
    "from dotenv import load_dotenv\n",
    "from IPython.display import clear_output\n",
    "from matplotlib import pyplot as plt\n",
    "from DataService import DataService"
   ]
  },
  {
   "cell_type": "code",
   "execution_count": 2,
   "metadata": {},
   "outputs": [],
   "source": [
    "# The following lines adjust the granularity of reporting.\n",
    "pd.options.display.max_rows = 10\n",
    "pd.options.display.float_format = \"{:.1f}\".format\n",
    "pd.set_option('display.max_columns', None)\n",
    "os.chdir('/tf')\n",
    "PGUSER = os.getenv('POSTGRES_USER')\n",
    "PGPW = os.getenv('POSTGRES_PW')\n",
    "PGDB = os.getenv('POSTGRES_DB')"
   ]
  },
  {
   "cell_type": "code",
   "execution_count": 3,
   "metadata": {},
   "outputs": [],
   "source": [
    "# Connect to the database\n",
    "pullService = DataService(PGDB, PGUSER, PGPW)\n",
    "db_pull_con = pullService.connect()\n",
    "\n",
    "pushService = DataService(PGDB, PGUSER, PGPW)\n",
    "db_push_con = pushService.connect()"
   ]
  },
  {
   "cell_type": "code",
   "execution_count": 4,
   "metadata": {},
   "outputs": [],
   "source": [
    "provinceTable = \"ProvincialBoundaries\"\n",
    "query5 = \"SELECT * FROM public.\\\"{}\\\";\".format(provinceTable)\n",
    "dfProv = gpd.GeoDataFrame.from_postgis(query5, db_pull_con)"
   ]
  },
  {
   "cell_type": "code",
   "execution_count": 5,
   "metadata": {},
   "outputs": [],
   "source": [
    "# Load the data\n",
    "fireWeatherTable = \"FireWeather\"\n",
    "query1 = \"SELECT * FROM public.\\\"{}\\\";\".format(fireWeatherTable)\n",
    "dfFireWeather = pd.read_sql(query1, db_pull_con)"
   ]
  },
  {
   "cell_type": "code",
   "execution_count": 6,
   "metadata": {},
   "outputs": [],
   "source": [
    "# Load the data\n",
    "waterTable = \"WaterSources\"\n",
    "query2 = \"SELECT * FROM public.\\\"{}\\\";\".format(waterTable)\n",
    "dfWater = gpd.GeoDataFrame.from_postgis(query2, db_pull_con)"
   ]
  },
  {
   "cell_type": "markdown",
   "metadata": {},
   "source": [
    "# plot to check\n",
    "f1, ax1 = plt.subplots(figsize=(19.20, 10.80))\n",
    "dfProv.boundary.plot(ax=ax1, color=None, edgecolor='black', linewidth=1, aspect=1)\n",
    "dfWater.plot(ax=ax1, color='red', markersize=0.1, aspect=1)\n"
   ]
  },
  {
   "cell_type": "code",
   "execution_count": 7,
   "metadata": {},
   "outputs": [],
   "source": [
    "# Load fire data\n",
    "elevationTable = \"SKElevationPoints\"\n",
    "query3 = \"SELECT * FROM public.\\\"{}\\\" ;\".format(elevationTable)\n",
    "dfElevation = gpd.GeoDataFrame.from_postgis(query3, db_pull_con)\n",
    "\n",
    "# drop rows where e_u_en is Feet\n",
    "dfElevation = dfElevation[dfElevation['e_u_en'] != 'Feet']"
   ]
  },
  {
   "cell_type": "markdown",
   "metadata": {},
   "source": [
    "dfElevation = dfElevation.to_crs(3347)\n",
    "dfElevation.set_crs(3347, allow_override=True)\n",
    "dfElevation.to_postgis('SKElevationPoints', db_push_con, if_exists='replace', index=False)"
   ]
  },
  {
   "cell_type": "markdown",
   "metadata": {},
   "source": [
    "# plot to check\n",
    "f2, ax2 = plt.subplots(figsize=(19.20, 10.80))\n",
    "dfProv.boundary.plot(ax=ax2, color=None, edgecolor='black', linewidth=1, aspect=1)\n",
    "dfElevation.to_crs(3347).plot(ax=ax2, color='red', markersize=0.1, aspect=1)"
   ]
  },
  {
   "cell_type": "code",
   "execution_count": 8,
   "metadata": {},
   "outputs": [],
   "source": [
    "centroids = \"lgFireFiftyCentroids\"\n",
    "query4 = \"SELECT * FROM public.\\\"{}\\\";\".format(centroids)\n",
    "dfCent = gpd.GeoDataFrame.from_postgis(query4, db_pull_con)"
   ]
  },
  {
   "cell_type": "markdown",
   "metadata": {},
   "source": [
    "# plot geo data to check\n",
    "f3, ax3 = plt.subplots(figsize=(19.20, 10.80))\n",
    "dfProv.boundary.plot(ax=ax3, color=None, edgecolor='black', linewidth=1, aspect=1)\n",
    "dfCent.plot(ax=ax3, color='red', markersize=0.1, aspect=1)"
   ]
  },
  {
   "cell_type": "code",
   "execution_count": 10,
   "metadata": {},
   "outputs": [],
   "source": [
    "dfFire = dfCent.copy(deep=True)\n",
    "\n",
    "# we selct entry ids that also exist in dfFireWeather\n",
    "dfFire = dfFire[dfFire['EntryID'].isin(dfFireWeather['EntryID'])]\n",
    "\n",
    "# we find the closest point in dfElevation and store the elevation\n",
    "for index, row in dfFire.iterrows():\n",
    "    dfElevation['DISTANCE'] = dfElevation['geom'].distance(row['geom'])\n",
    "    dfElevation = dfElevation.sort_values(by=['DISTANCE'])\n",
    "    dfFire.at[index, 'ElevationM'] = dfElevation.iloc[0]['e']\n",
    "\n",
    "# we find the closest point in dfWater and store the distance to water\n",
    "for index, row in dfFire.iterrows():\n",
    "    dfWater['DISTANCE'] = dfWater['geom'].distance(row['geom'])\n",
    "    dfWater = dfWater.sort_values(by=['DISTANCE'])\n",
    "    dfFire.at[index, 'Dist_To_Water'] = dfWater.iloc[0]['DISTANCE']\n",
    "\n"
   ]
  },
  {
   "cell_type": "code",
   "execution_count": 11,
   "metadata": {},
   "outputs": [
    {
     "name": "stdout",
     "output_type": "stream",
     "text": [
      "       EntryID  ElevationM  Dist_To_Water\n",
      "count    428.0       428.0          428.0\n",
      "mean    3829.2       883.5         4370.1\n",
      "std     3843.2       460.7         4712.6\n",
      "min       33.0       334.0            0.0\n",
      "25%      757.5       457.8         1039.4\n",
      "50%     1736.0       787.5         2595.7\n",
      "75%     8700.2      1280.0         5928.5\n",
      "max    12248.0      1952.0        28555.3\n",
      "EntryID          428\n",
      "geom             428\n",
      "ElevationM       428\n",
      "Dist_To_Water    428\n",
      "dtype: int64\n",
      "0\n"
     ]
    }
   ],
   "source": [
    "print(dfFire.describe())\n",
    "print(dfFire.count())\n",
    "print(dfFire.isnull().sum().sum())"
   ]
  },
  {
   "cell_type": "code",
   "execution_count": 12,
   "metadata": {},
   "outputs": [],
   "source": [
    "# join fire with centroids\n",
    "dfMerged = dfFireWeather.merge(dfFire, on='EntryID', how='left')"
   ]
  },
  {
   "cell_type": "code",
   "execution_count": 13,
   "metadata": {},
   "outputs": [
    {
     "name": "stdout",
     "output_type": "stream",
     "text": [
      "       EntryID   YEAR  MONTH   DAY  SIZE_HA  size_ha_bin  OneYear  OneMonth  \\\n",
      "count    428.0  428.0  428.0 428.0    428.0        428.0    428.0     428.0   \n",
      "mean    3829.2 2013.9    6.8  15.9   8936.9          1.7   2013.9       5.8   \n",
      "std     3843.2    2.6    0.9   9.8  32731.6          1.1      2.6       0.9   \n",
      "min       33.0 2010.0    5.0   1.0    200.7          0.0   2010.0       4.0   \n",
      "25%      757.5 2012.0    6.0   6.0    651.8          1.0   2012.0       5.0   \n",
      "50%     1736.0 2014.0    7.0  15.0   1880.7          2.0   2014.0       6.0   \n",
      "75%     8700.2 2016.0    7.0  25.2   5092.8          3.0   2016.0       6.0   \n",
      "max    12248.0 2020.0   10.0  31.0 491429.4          3.0   2020.0       9.0   \n",
      "\n",
      "       OneMeanTemp  OneMinTemp  OneMaxTemp  OneMeanDewPoint  OneMinDewPoint  \\\n",
      "count        428.0       428.0       428.0            428.0           428.0   \n",
      "mean          12.5        -2.8        27.3              3.6            -7.5   \n",
      "std            4.7         6.6         3.2              5.4             6.9   \n",
      "min           -6.3       -28.4         6.2            -12.4           -31.9   \n",
      "25%            8.7        -7.6        26.0             -1.5           -11.7   \n",
      "50%           14.0        -1.6        27.5              5.2            -5.2   \n",
      "75%           15.9         1.6        29.4              8.2            -2.3   \n",
      "max           19.2        10.1        33.4             12.3             5.0   \n",
      "\n",
      "       OneMaxDewPoint  OneMeanHumidity  OneMinHumidity  OneMaxHumidity  \\\n",
      "count           428.0            428.0           428.0           428.0   \n",
      "mean             13.3             60.0            18.5            97.2   \n",
      "std               4.4              7.1             6.2             2.6   \n",
      "min              -4.6             38.0            10.0            81.1   \n",
      "25%              10.4             54.7            15.0            96.0   \n",
      "50%              14.7             60.3            18.0            97.0   \n",
      "75%              16.7             65.4            22.0            99.0   \n",
      "max              20.5             81.1            81.1           100.0   \n",
      "\n",
      "       OneMeanPressure  OneMinPressure  OneMaxPressure  OneMeanWindSpeed  \\\n",
      "count            426.0           426.0           426.0             426.0   \n",
      "mean              97.4            95.8            98.7               9.2   \n",
      "std                0.9             1.0             1.0               1.9   \n",
      "min               95.1            93.2            95.9               4.3   \n",
      "25%               96.8            95.3            98.0               7.8   \n",
      "50%               97.4            95.8            98.7               9.2   \n",
      "75%               97.9            96.4            99.4              10.5   \n",
      "max               99.4            97.8           102.0              14.0   \n",
      "\n",
      "       OneMinWindSpeed  OneMaxWindSpeed  OneMeanWindChill  OneMinWindChill  \\\n",
      "count            426.0            426.0             426.0            426.0   \n",
      "mean               0.0             29.5             -18.1            -19.1   \n",
      "std                0.2              6.3               2.3              2.7   \n",
      "min                0.0             16.0             -24.4            -35.0   \n",
      "25%                0.0             24.0             -19.9            -20.4   \n",
      "50%                0.0             30.0             -17.9            -18.4   \n",
      "75%                0.0             33.0             -16.5            -17.3   \n",
      "max                2.0             49.0             -12.4            -14.9   \n",
      "\n",
      "       OneMaxWindChill  OneTotalPrecip  OneMeanWindDirection  TwoYear  \\\n",
      "count            426.0           428.0                 426.0    428.0   \n",
      "mean              -7.9            22.9                  16.0   2013.9   \n",
      "std                8.9            29.1                   2.9      2.6   \n",
      "min              -24.4             0.0                   9.2   2010.0   \n",
      "25%              -18.1             0.0                  14.0   2012.0   \n",
      "50%               -1.0             9.9                  15.6   2014.0   \n",
      "75%               -1.0            40.1                  17.6   2016.0   \n",
      "max                0.0           175.9                  22.9   2020.0   \n",
      "\n",
      "       TwoMonth  TwoMeanTemp  TwoMinTemp  TwoMaxTemp  TwoMeanDewPoint  \\\n",
      "count     428.0        428.0       428.0       428.0            428.0   \n",
      "mean        4.8          5.3       -12.1        22.6             -3.0   \n",
      "std         0.9          6.9        11.1         6.0              6.2   \n",
      "min         3.0        -16.1       -39.5        -0.3            -21.3   \n",
      "25%         4.0          0.3       -21.0        19.9             -7.5   \n",
      "50%         5.0          6.9        -8.5        24.1             -2.1   \n",
      "75%         5.0         10.2        -3.6        26.9              0.4   \n",
      "max         8.0         18.2         7.1        33.3             11.4   \n",
      "\n",
      "       TwoMinDewPoint  TwoMaxDewPoint  TwoMeanHumidity  TwoMinHumidity  \\\n",
      "count           428.0           428.0            428.0           428.0   \n",
      "mean            -16.8             8.0             60.0            18.6   \n",
      "std              10.4             5.1              6.5             6.9   \n",
      "min             -43.8           -10.5             43.6            10.0   \n",
      "25%             -24.0             4.3             55.3            15.0   \n",
      "50%             -14.9             8.5             60.2            17.0   \n",
      "75%              -9.7            12.0             64.5            21.0   \n",
      "max               2.8            19.1             81.1            81.1   \n",
      "\n",
      "       TwoMaxHumidity  TwoMeanPressure  TwoMinPressure  TwoMaxPressure  \\\n",
      "count           428.0            426.0           426.0           426.0   \n",
      "mean             96.8             97.5            95.6            98.8   \n",
      "std               3.7              1.0             1.0             1.1   \n",
      "min              71.9             95.2            92.4            96.4   \n",
      "25%              96.0             96.9            94.9            98.0   \n",
      "50%              97.0             97.5            95.7            98.8   \n",
      "75%              99.0             97.9            96.3            99.5   \n",
      "max             100.0             99.5            97.7           101.4   \n",
      "\n",
      "       TwoMeanWindSpeed  TwoMinWindSpeed  TwoMaxWindSpeed  TwoMeanWindChill  \\\n",
      "count             426.0            426.0            426.0             426.0   \n",
      "mean                9.7              0.1             30.8             -16.7   \n",
      "std                 2.0              0.6              6.8               2.4   \n",
      "min                 5.5              0.0             19.0             -23.8   \n",
      "25%                 8.1              0.0             26.0             -18.8   \n",
      "50%                 9.6              0.0             30.0             -16.4   \n",
      "75%                10.8              0.0             34.0             -15.1   \n",
      "max                18.1              6.0             51.0             -10.7   \n",
      "\n",
      "       TwoMinWindChill  TwoMaxWindChill  TwoTotalPrecip  TwoMeanWindDirection  \\\n",
      "count            426.0            426.0           428.0                 426.0   \n",
      "mean             -23.1             -3.3            16.8                  15.3   \n",
      "std                7.3              6.1            21.5                   2.4   \n",
      "min              -47.0            -22.3             0.0                   9.2   \n",
      "25%              -27.0             -2.0             0.0                  13.6   \n",
      "50%              -20.0             -1.0             8.3                  15.4   \n",
      "75%              -18.0             -1.0            29.3                  16.9   \n",
      "max              -15.3              0.0           107.1                  22.9   \n",
      "\n",
      "       ElevationM  Dist_To_Water  \n",
      "count       428.0          428.0  \n",
      "mean        883.5         4370.1  \n",
      "std         460.7         4712.6  \n",
      "min         334.0            0.0  \n",
      "25%         457.8         1039.4  \n",
      "50%         787.5         2595.7  \n",
      "75%        1280.0         5928.5  \n",
      "max        1952.0        28555.3  \n",
      "EntryID                 428\n",
      "FIRE_ID                 428\n",
      "FIRENAME                428\n",
      "YEAR                    428\n",
      "MONTH                   428\n",
      "                       ... \n",
      "TwoTotalPrecip          428\n",
      "TwoMeanWindDirection    426\n",
      "geom                    428\n",
      "ElevationM              428\n",
      "Dist_To_Water           428\n",
      "Length: 57, dtype: int64\n",
      "40\n"
     ]
    }
   ],
   "source": [
    "print(dfMerged.describe())\n",
    "print(dfMerged.count())\n",
    "print(dfMerged.isnull().sum().sum())"
   ]
  },
  {
   "cell_type": "code",
   "execution_count": 14,
   "metadata": {},
   "outputs": [],
   "source": [
    "dfFinal = dfMerged.copy(deep=True)"
   ]
  },
  {
   "cell_type": "code",
   "execution_count": 15,
   "metadata": {},
   "outputs": [],
   "source": [
    "dfFinal = gpd.GeoDataFrame(dfFinal, geometry='geom')\n",
    "dfFinal.to_postgis('FireWeatherWaterElev', db_push_con, if_exists='replace', index=False)"
   ]
  },
  {
   "cell_type": "code",
   "execution_count": 16,
   "metadata": {},
   "outputs": [],
   "source": [
    "dfFireWaterElev = dfMerged.copy(deep=True)\n",
    "dfFireWaterElev.drop(columns=['OneMonth', 'OneYear', 'TwoMonth', 'TwoYear', \n",
    "                                'TwoMeanTemp', 'TwoMinTemp', 'TwoMaxTemp', 'TwoMeanDewPoint', 'TwoMinDewPoint', 'TwoMaxDewPoint',\n",
    "                                     'TwoMeanHumidity', 'TwoMinHumidity', 'TwoMaxHumidity', 'TwoMeanPressure', 'TwoMinPressure',\n",
    "                                     'TwoMaxPressure', 'TwoMeanWindSpeed', 'TwoMinWindSpeed', 'TwoMaxWindSpeed', 'TwoMeanWindChill',\n",
    "                                     'TwoMinWindChill', 'TwoMaxWindChill', 'TwoTotalPrecip', 'TwoMeanWindDirection',\n",
    "                                     'OneMeanTemp', 'OneMinTemp', 'OneMaxTemp', 'OneMeanDewPoint', 'OneMinDewPoint', 'OneMaxDewPoint',\n",
    "                                     'OneMeanHumidity', 'OneMinHumidity', 'OneMaxHumidity', 'OneMeanPressure', 'OneMinPressure',\n",
    "                                     'OneMaxPressure', 'OneMeanWindSpeed', 'OneMinWindSpeed', 'OneMaxWindSpeed', 'OneMeanWindChill',\n",
    "                                      'OneMinWindChill', 'OneMaxWindChill', 'OneTotalPrecip', 'OneMeanWindDirection'], inplace=True)\n",
    "                                      "
   ]
  },
  {
   "cell_type": "code",
   "execution_count": 17,
   "metadata": {},
   "outputs": [
    {
     "name": "stdout",
     "output_type": "stream",
     "text": [
      "       EntryID   YEAR  MONTH   DAY  SIZE_HA  size_ha_bin  ElevationM  \\\n",
      "count    428.0  428.0  428.0 428.0    428.0        428.0       428.0   \n",
      "mean    3829.2 2013.9    6.8  15.9   8936.9          1.7       883.5   \n",
      "std     3843.2    2.6    0.9   9.8  32731.6          1.1       460.7   \n",
      "min       33.0 2010.0    5.0   1.0    200.7          0.0       334.0   \n",
      "25%      757.5 2012.0    6.0   6.0    651.8          1.0       457.8   \n",
      "50%     1736.0 2014.0    7.0  15.0   1880.7          2.0       787.5   \n",
      "75%     8700.2 2016.0    7.0  25.2   5092.8          3.0      1280.0   \n",
      "max    12248.0 2020.0   10.0  31.0 491429.4          3.0      1952.0   \n",
      "\n",
      "       Dist_To_Water  \n",
      "count          428.0  \n",
      "mean          4370.1  \n",
      "std           4712.6  \n",
      "min              0.0  \n",
      "25%           1039.4  \n",
      "50%           2595.7  \n",
      "75%           5928.5  \n",
      "max          28555.3  \n",
      "EntryID          428\n",
      "FIRE_ID          428\n",
      "FIRENAME         428\n",
      "YEAR             428\n",
      "MONTH            428\n",
      "                ... \n",
      "size_ha_bin      428\n",
      "ClimateID        428\n",
      "geom             428\n",
      "ElevationM       428\n",
      "Dist_To_Water    428\n",
      "Length: 13, dtype: int64\n",
      "0\n"
     ]
    }
   ],
   "source": [
    "print(dfFireWaterElev.describe())\n",
    "print(dfFireWaterElev.count())\n",
    "print(dfFireWaterElev.isnull().sum().sum())"
   ]
  },
  {
   "cell_type": "code",
   "execution_count": 19,
   "metadata": {},
   "outputs": [],
   "source": [
    "dfFireWaterElev = gpd.GeoDataFrame(dfFireWaterElev, geometry='geom')\n",
    "dfFireWaterElev.to_postgis('FireWaterElev', db_push_con, if_exists='replace', index=False)"
   ]
  }
 ],
 "metadata": {
  "kernelspec": {
   "display_name": "Python 3.8.10 64-bit",
   "language": "python",
   "name": "python3"
  },
  "language_info": {
   "codemirror_mode": {
    "name": "ipython",
    "version": 3
   },
   "file_extension": ".py",
   "mimetype": "text/x-python",
   "name": "python",
   "nbconvert_exporter": "python",
   "pygments_lexer": "ipython3",
   "version": "3.8.10"
  },
  "orig_nbformat": 4,
  "vscode": {
   "interpreter": {
    "hash": "916dbcbb3f70747c44a77c7bcd40155683ae19c65e1c03b4aa3499c5328201f1"
   }
  }
 },
 "nbformat": 4,
 "nbformat_minor": 2
}
