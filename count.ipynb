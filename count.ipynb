{
 "cells": [
  {
   "cell_type": "code",
   "execution_count": 1,
   "metadata": {},
   "outputs": [],
   "source": [
    "import os\n",
    "import pandas as pd\n",
    "import geopandas as gpd\n",
    "from shapely import wkt"
   ]
  },
  {
   "cell_type": "code",
   "execution_count": 2,
   "metadata": {},
   "outputs": [],
   "source": [
    "# The following lines adjust the granularity of reporting.\n",
    "#pd.options.display.max_rows = 10\n",
    "pd.options.display.float_format = \"{:.1f}\".format\n",
    "pd.set_option('display.max_columns', None)\n",
    "pd.set_option('display.max_rows', None)\n",
    "os.chdir('/tf')\n",
    "PGUSER = os.getenv('POSTGRES_USER')\n",
    "PGPW = os.getenv('POSTGRES_PW')\n",
    "PGDB = os.getenv('POSTGRES_DB')\n",
    "NULLFLAG = -9999\n",
    "ONEDAY = 24 * 60 * 60\n",
    "WEEK = 7 * ONEDAY"
   ]
  },
  {
   "cell_type": "code",
   "execution_count": 3,
   "metadata": {},
   "outputs": [],
   "source": [
    "def getGPDfromPD(df: pd.DataFrame, geomCol: str, crs: str = \"EPSG:3978\") -> gpd.GeoDataFrame:\n",
    "    \"\"\"\n",
    "    Convert a pandas dataframe to a geopandas dataframe\n",
    "    :param df: pandas dataframe\n",
    "    :param geomCol: name of the geometry column\n",
    "    :param crs: coordinate reference system\n",
    "    :return: geopandas dataframe\n",
    "    \"\"\"\n",
    "    if 'geom' in df.columns:\n",
    "        df.rename(columns={'geom': 'geometry'}, inplace=True)\n",
    "\n",
    "    df[geomCol] = df[geomCol].apply(wkt.loads)\n",
    "    gdf = gpd.GeoDataFrame(df, geometry=geomCol, crs=crs)\n",
    "    return gdf"
   ]
  },
  {
   "cell_type": "code",
   "execution_count": 4,
   "metadata": {},
   "outputs": [
    {
     "name": "stdout",
     "output_type": "stream",
     "text": [
      "Index(['EntryID', 'FIRE_ID', 'FIRENAME', 'YEAR', 'MONTH', 'DAY', 'REP_DATE',\n",
      "       'OUT_DATE', 'DECADE', 'SIZE_HA', 'CALC_HA', 'CAUSE', 'CFS_REF_ID',\n",
      "       'geometry'],\n",
      "      dtype='object')\n"
     ]
    }
   ],
   "source": [
    "# load fire \n",
    "fires = \"Data/GEOlgFireFifty.csv\"\n",
    "dfTemp = pd.read_csv(fires)\n",
    "\n",
    "dfFire = getGPDfromPD(dfTemp, 'geometry')\n",
    "print(dfFire.columns)"
   ]
  },
  {
   "cell_type": "code",
   "execution_count": 5,
   "metadata": {},
   "outputs": [],
   "source": [
    "# first read in the csv file into pd\n",
    "dfTemp = pd.read_csv('Data/GEOProvincialBoundaries.csv')\n",
    "\n",
    "dfProvinces = getGPDfromPD(dfTemp, 'geometry')"
   ]
  },
  {
   "cell_type": "code",
   "execution_count": 6,
   "metadata": {},
   "outputs": [],
   "source": [
    "dfSK = dfFire\n",
    "# keep only dfNearest where geomtry is containe din dfProvinces Saskatchewan\n",
    "dfSK['keep'] = False\n",
    "for index, row in dfSK.iterrows():\n",
    "    if dfProvinces[dfProvinces['provID'] == 'SK'].contains(row['geometry']).any():\n",
    "        dfSK.at[index, 'keep'] = True\n"
   ]
  },
  {
   "cell_type": "code",
   "execution_count": 7,
   "metadata": {},
   "outputs": [],
   "source": [
    "dfSK = dfSK[dfSK['keep'] == True]"
   ]
  },
  {
   "cell_type": "code",
   "execution_count": 8,
   "metadata": {},
   "outputs": [
    {
     "name": "stdout",
     "output_type": "stream",
     "text": [
      "2008 58\n",
      "1981 64\n",
      "1990 24\n",
      "1991 18\n",
      "2004 61\n",
      "2015 112\n",
      "2005 45\n",
      "2006 73\n",
      "1992 8\n",
      "1994 36\n",
      "2009 25\n",
      "1985 21\n",
      "1996 9\n",
      "2007 24\n",
      "1998 86\n",
      "2003 35\n",
      "2010 86\n",
      "1999 35\n",
      "2011 23\n",
      "2012 44\n",
      "2013 33\n",
      "1984 37\n",
      "1982 20\n",
      "1983 20\n",
      "1986 6\n",
      "1989 94\n",
      "1987 33\n",
      "1988 19\n",
      "1995 40\n",
      "1993 23\n",
      "1997 5\n",
      "2000 20\n",
      "2001 30\n",
      "2002 66\n",
      "2016 25\n",
      "2014 48\n",
      "2017 47\n",
      "2018 36\n",
      "2019 15\n",
      "2020 4\n"
     ]
    }
   ],
   "source": [
    "# select unique years\n",
    "years = dfSK['YEAR'].unique()\n",
    "\n",
    "# count rows with year\n",
    "for year in years:\n",
    "    print(year, len(dfSK[dfSK['YEAR'] == year]))\n",
    "\n"
   ]
  }
 ],
 "metadata": {
  "kernelspec": {
   "display_name": "Python 3.8.10 64-bit",
   "language": "python",
   "name": "python3"
  },
  "language_info": {
   "codemirror_mode": {
    "name": "ipython",
    "version": 3
   },
   "file_extension": ".py",
   "mimetype": "text/x-python",
   "name": "python",
   "nbconvert_exporter": "python",
   "pygments_lexer": "ipython3",
   "version": "3.8.10"
  },
  "orig_nbformat": 4,
  "vscode": {
   "interpreter": {
    "hash": "916dbcbb3f70747c44a77c7bcd40155683ae19c65e1c03b4aa3499c5328201f1"
   }
  }
 },
 "nbformat": 4,
 "nbformat_minor": 2
}
