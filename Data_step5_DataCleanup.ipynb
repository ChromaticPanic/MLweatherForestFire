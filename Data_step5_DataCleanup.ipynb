{
 "cells": [
  {
   "cell_type": "code",
   "execution_count": null,
   "metadata": {},
   "outputs": [],
   "source": [
    "import os\n",
    "import pandas as pd\n",
    "import geopandas as gpd\n",
    "import pygeos as pg\n",
    "import numpy as np\n",
    "import tensorflow as tf\n",
    "import sqlalchemy as sq\n",
    "import calendar\n",
    "from dotenv import load_dotenv\n",
    "from IPython.display import clear_output\n",
    "from matplotlib import pyplot as plt\n",
    "from DataService import DataService"
   ]
  },
  {
   "cell_type": "code",
   "execution_count": null,
   "metadata": {},
   "outputs": [],
   "source": [
    "# The following lines adjust the granularity of reporting.\n",
    "pd.options.display.max_rows = 10\n",
    "pd.options.display.float_format = \"{:.1f}\".format\n",
    "pd.set_option('display.max_columns', None)\n",
    "os.chdir('/tf')\n",
    "PGUSER = os.getenv('POSTGRES_USER')\n",
    "PGPW = os.getenv('POSTGRES_PW')\n",
    "PGDB = os.getenv('POSTGRES_DB')\n",
    "NULLFLAG = -9999"
   ]
  },
  {
   "cell_type": "code",
   "execution_count": null,
   "metadata": {},
   "outputs": [],
   "source": [
    "# Connect to the database\n",
    "pullService = DataService(PGDB, PGUSER, PGPW)\n",
    "db_pull_con = pullService.connect()\n",
    "\n",
    "pushService = DataService(PGDB, PGUSER, PGPW)\n",
    "db_push_con = pushService.connect()"
   ]
  },
  {
   "cell_type": "code",
   "execution_count": null,
   "metadata": {},
   "outputs": [],
   "source": [
    "def date_iter(year, month):\n",
    "    \"\"\"Iterate over days in a month.\"\"\"\n",
    "    for i in range(1, calendar.monthrange(year, month)[1] + 1):\n",
    "        yield i"
   ]
  },
  {
   "cell_type": "code",
   "execution_count": null,
   "metadata": {},
   "outputs": [],
   "source": [
    "def summary(df: pd.DataFrame) -> pd.DataFrame:\n",
    "    \"\"\"Returns new df with min max mean for each numeric column\"\"\"\n",
    "    result = df.copy()\n",
    "    result.groupby('ClimateID', 'ProvinceCode', 'Year', 'Month', 'Day').agg(MeanTemp=('Temp', 'mean'), MinTemp=('Temp', 'min'), MaxTemp=('Temp', 'max'),\n",
    "                                                                          MeanDewPoint=('Dew', 'mean'), MinDewPoint=('Dew', 'min'), MaxDewPoint=('Dew', 'max'),\n",
    "                                                                            MeanHumidity=('Humidity', 'mean'), MinHumidity=('Humidity', 'min'), MaxHumidity=('Humidity', 'max'),\n",
    "                                                                            MeanPressure=('Pressure', 'mean'), MinPressure=('Pressure', 'min'), MaxPressure=('Pressure', 'max'),\n",
    "                                                                            MeanWindSpeed=('WindSpeed', 'mean'), MinWindSpeed=('WindSpeed', 'min'), MaxWindSpeed=('WindSpeed', 'max'),\n",
    "                                                                            MeanWindChill=('WindChill', 'mean'), MinWindChill=('WindChill', 'min'), MaxWindChill=('WindChill', 'max'),\n",
    "                                                                            TotalPrecip=('Precip', 'sum'), MeanWindDirection=('WindDirection', 'mean'))\n",
    "    return result\n"
   ]
  },
  {
   "cell_type": "code",
   "execution_count": null,
   "metadata": {},
   "outputs": [],
   "source": [
    "def cleanup(id: str, year: int, month: int, day: int, srcTable: str, destTable: str) -> None:\n",
    "    # Get the data for the day\n",
    "    query = \"SELECT * FROM public.\\\"{}\\\" WHERE \\\"ClimateID\\\" like '{}' AND \\\"Year\\\" = {} AND \\\"Month\\\" = {} AND \\\"Day\\\" = {};\".format(srcTable, id, year, month, day)\n",
    "    df = pd.read_sql(query, db_pull_con)\n",
    "    if df.empty:\n",
    "        return\n",
    "\n",
    "    df[['ClimateID', 'ProvinceCode']] = df[['ClimateID', 'ProvinceCode']].astype(str)\n",
    "    df[['Year', 'Month', 'Day', 'Hour']] = df[['Year', 'Month', 'Day', 'Hour']].astype(int)\n",
    "\n",
    "    # use float for numeric columns\n",
    "    df[['Temp', 'DewPointTemp', 'PrecipAmount', 'RelativeHumidity', 'StationPressure', 'WindChill', 'WindDirection', 'WindSpeed']] = df[['Temp', \n",
    "                'DewPointTemp', 'PrecipAmount', 'RelativeHumidity', 'StationPressure', 'WindChill', 'WindDirection', 'WindSpeed']].astype(float)\n",
    "\n",
    "    # Replace NULLFLAG values with mean for each column\n",
    "    df = df.replace(NULLFLAG, np.nan)\n",
    "    df = df.fillna(df.mean())\n",
    "\n",
    "    # Get df with min max mean for each numeric column\n",
    "    dfSummary = summary(df)\n",
    "\n",
    "    # Update the database\n",
    "    dfSummary.to_sql(destTable, db_push_con, if_exists='append', index=False)\n"
   ]
  },
  {
   "cell_type": "code",
   "execution_count": null,
   "metadata": {},
   "outputs": [],
   "source": [
    "# Load the data\n",
    "climateIdTable = \"TenYrStationsHourly\"\n",
    "\n",
    "# first get distinct list of stations\n",
    "query = \"SELECT DISTINCT \\\"ClimateID\\\" FROM public.\\\"{}\\\";\".format(climateIdTable)\n",
    "dfIDs = pd.read_sql(query, db_pull_con)\n"
   ]
  },
  {
   "cell_type": "code",
   "execution_count": null,
   "metadata": {},
   "outputs": [],
   "source": [
    "srcTable = \"WeatherDataHourly\"\n",
    "destTable = \"WeatherDataHourlyAggDaily\"\n",
    "# Replace NULLFLAG values with mean for each column\n",
    "for id in dfIDs['ClimateID']:\n",
    "    clear_output(wait=False)\n",
    "    print(\"Processing ClimateID: {}\".format(id))\n",
    "\n",
    "    # Iterate through days from 2009 to 2022\n",
    "    year = 2010\n",
    "    month = 1\n",
    "    for year in range(2010, 2022):\n",
    "        # first we check if the db has data for the year\n",
    "        query = \"SELECT * FROM public.\\\"{}\\\" WHERE \\\"ClimateID\\\" like '{}' AND \\\"Year\\\" = {};\".format(srcTable, id, year)\n",
    "        dfYear = pd.read_sql(query, db_pull_con)\n",
    "        if dfYear.empty:\n",
    "            continue\n",
    "        for month in range(1, 13):\n",
    "            for day in date_iter(year, month):\n",
    "                cleanup(id, year, month, day, srcTable, destTable)\n",
    "            print(\"Processed ClimateID: {} for {}-{}\".format(id, year, month))"
   ]
  },
  {
   "cell_type": "code",
   "execution_count": null,
   "metadata": {},
   "outputs": [],
   "source": []
  },
  {
   "cell_type": "code",
   "execution_count": null,
   "metadata": {},
   "outputs": [],
   "source": []
  },
  {
   "cell_type": "code",
   "execution_count": null,
   "metadata": {},
   "outputs": [],
   "source": []
  }
 ],
 "metadata": {
  "kernelspec": {
   "display_name": "Python 3.8.10 64-bit",
   "language": "python",
   "name": "python3"
  },
  "language_info": {
   "codemirror_mode": {
    "name": "ipython",
    "version": 3
   },
   "file_extension": ".py",
   "mimetype": "text/x-python",
   "name": "python",
   "nbconvert_exporter": "python",
   "pygments_lexer": "ipython3",
   "version": "3.8.10"
  },
  "orig_nbformat": 4,
  "vscode": {
   "interpreter": {
    "hash": "916dbcbb3f70747c44a77c7bcd40155683ae19c65e1c03b4aa3499c5328201f1"
   }
  }
 },
 "nbformat": 4,
 "nbformat_minor": 2
}
