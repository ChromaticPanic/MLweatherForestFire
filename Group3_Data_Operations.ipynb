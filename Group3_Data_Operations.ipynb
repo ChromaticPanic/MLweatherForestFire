{
 "cells": [
  {
   "cell_type": "markdown",
   "id": "cf8e8455-a89d-418f-8ffe-4c93fadbcef0",
   "metadata": {},
   "source": [
    "#Group3_Data_Operations"
   ]
  },
  {
   "cell_type": "code",
   "execution_count": null,
   "id": "17828805-dcb4-44d0-a053-8ca77d030e51",
   "metadata": {},
   "outputs": [],
   "source": [
    "#%pip install pyshp pyproj psycopg2 pprint"
   ]
  },
  {
   "cell_type": "code",
   "execution_count": null,
   "id": "fb7c6eba-2357-4ab1-8ecb-1870367fa315",
   "metadata": {
    "cellView": "form",
    "id": "9n9_cTveKmse"
   },
   "outputs": [],
   "source": [
    "#@title Import relevant modules\n",
    "import pandas as pd\n",
    "import geopandas as gpd\n",
    "import tensorflow as tf\n",
    "from matplotlib import pyplot as plt\n",
    "\n",
    "# The following lines adjust the granularity of reporting. \n",
    "pd.options.display.max_rows = 10\n",
    "pd.options.display.float_format = \"{:.1f}\".format"
   ]
  },
  {
   "cell_type": "code",
   "execution_count": 5,
   "id": "bce28fb6-8c0e-41d8-aba1-be89bd45c8c6",
   "metadata": {},
   "outputs": [],
   "source": [
    "# define input files here\n",
    "polygonLgFires = \"Data/NFDB_poly_20210707_large_fires.shp\"\n",
    "pointsLgFires = \"Data/NFDB_point_20220901_large_fires.shp\"\n",
    "composite2020 = \"Data/nbac_2020_r9_20210810.shp\"\n",
    "composite2019 = \"Data/nbac_2019_r9_20210810.shp\"\n",
    "composite2018 = \"Data/nbac_2018_r9_20210810.shp\"\n",
    "composite2017 = \"Data/nbac_2017_r9_20210810.shp\"\n",
    "composite2016 = \"Data/nbac_2016_r9_20210810.shp\"\n",
    "composite2015 = \"Data/nbac_2015_r9_20210810.shp\"\n",
    "composite2014 = \"Data/nbac_2014_r9_20210810.shp\"\n",
    "composite2013 = \"Data/nbac_2013_r9_20210810.shp\"\n",
    "composite2012 = \"Data/nbac_2012_r9_20210810.shp\"\n",
    "composite2011 = \"Data/nbac_2011_r9_20210810.shp\"\n",
    "composite2010 = \"Data/nbac_2010_r9_20210810.shp\"\n",
    "shpCollection = [polygonLgFires, pointsLgFires, composite2020, composite2019, composite2018, composite2017, composite2016, composite2015, composite2014, composite2013, composite2012, composite2011, composite2010]"
   ]
  },
  {
   "cell_type": "code",
   "execution_count": 3,
   "id": "ac1eb6dc-1d50-425c-ae59-c0a6fdf86679",
   "metadata": {},
   "outputs": [],
   "source": [
    "shapefile = gpd.read_file(myShapeFile, encoding=\"utf-8\")\n"
   ]
  },
  {
   "cell_type": "code",
   "execution_count": null,
   "id": "f1f7d09d-5180-44ef-9616-b18a987bf87f",
   "metadata": {},
   "outputs": [],
   "source": [
    "print(shapefile)"
   ]
  },
  {
   "cell_type": "code",
   "execution_count": null,
   "id": "80e2ee3f-eaeb-46cd-b718-8ba11c6454c7",
   "metadata": {},
   "outputs": [],
   "source": []
  }
 ],
 "metadata": {
  "kernelspec": {
   "display_name": "Python 3 (ipykernel)",
   "language": "python",
   "name": "python3"
  },
  "language_info": {
   "codemirror_mode": {
    "name": "ipython",
    "version": 3
   },
   "file_extension": ".py",
   "mimetype": "text/x-python",
   "name": "python",
   "nbconvert_exporter": "python",
   "pygments_lexer": "ipython3",
   "version": "3.8.10"
  }
 },
 "nbformat": 4,
 "nbformat_minor": 5
}
