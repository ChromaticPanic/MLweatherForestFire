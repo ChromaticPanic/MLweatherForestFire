{
 "cells": [
  {
   "cell_type": "markdown",
   "id": "cf8e8455-a89d-418f-8ffe-4c93fadbcef0",
   "metadata": {},
   "source": [
    "#Group3_Data_Operations"
   ]
  },
  {
   "cell_type": "code",
   "execution_count": null,
   "id": "17828805-dcb4-44d0-a053-8ca77d030e51",
   "metadata": {},
   "outputs": [],
   "source": [
    "#%pip install pyshp pyproj psycopg2 pprint"
   ]
  },
  {
   "cell_type": "code",
   "execution_count": 1,
   "id": "fb7c6eba-2357-4ab1-8ecb-1870367fa315",
   "metadata": {
    "cellView": "form",
    "id": "9n9_cTveKmse"
   },
   "outputs": [
    {
     "name": "stderr",
     "output_type": "stream",
     "text": [
      "2022-11-18 01:18:13.542051: I tensorflow/core/platform/cpu_feature_guard.cc:193] This TensorFlow binary is optimized with oneAPI Deep Neural Network Library (oneDNN) to use the following CPU instructions in performance-critical operations:  AVX2 FMA\n",
      "To enable them in other operations, rebuild TensorFlow with the appropriate compiler flags.\n",
      "2022-11-18 01:18:13.651085: E tensorflow/stream_executor/cuda/cuda_blas.cc:2981] Unable to register cuBLAS factory: Attempting to register factory for plugin cuBLAS when one has already been registered\n"
     ]
    }
   ],
   "source": [
    "#@title Import relevant modules\n",
    "import pandas as pd\n",
    "import geopandas as gpd\n",
    "import tensorflow as tf\n",
    "from matplotlib import pyplot as plt\n",
    "\n",
    "# The following lines adjust the granularity of reporting. \n",
    "pd.options.display.max_rows = 10\n",
    "pd.options.display.float_format = \"{:.1f}\".format\n"
   ]
  },
  {
   "cell_type": "code",
   "execution_count": 2,
   "id": "bce28fb6-8c0e-41d8-aba1-be89bd45c8c6",
   "metadata": {},
   "outputs": [],
   "source": [
    "# define input files here\n",
    "myShapeFile = \"Data/NFDB_poly_20210707_large_fires.shp\""
   ]
  },
  {
   "cell_type": "code",
   "execution_count": 3,
   "id": "ac1eb6dc-1d50-425c-ae59-c0a6fdf86679",
   "metadata": {},
   "outputs": [],
   "source": [
    "shapefile = gpd.read_file(myShapeFile, encoding=\"utf-8\")\n"
   ]
  },
  {
   "cell_type": "code",
   "execution_count": 4,
   "id": "f1f7d09d-5180-44ef-9616-b18a987bf87f",
   "metadata": {},
   "outputs": [
    {
     "name": "stdout",
     "output_type": "stream",
     "text": [
      "                                                geometry\n",
      "0      POLYGON Z ((-1886926.467 898021.006 0.000, -18...\n",
      "1      POLYGON Z ((-1880308.251 892344.865 0.000, -18...\n",
      "2      POLYGON Z ((-1965048.293 820512.199 0.000, -19...\n",
      "3      POLYGON Z ((-1995073.527 854615.146 0.000, -19...\n",
      "4      POLYGON Z ((-1988211.829 940418.674 0.000, -19...\n",
      "...                                                  ...\n",
      "21833  POLYGON Z ((-1603026.260 1711870.350 0.000, -1...\n",
      "21834  MULTIPOLYGON Z (((-1606599.641 1914016.379 0.0...\n",
      "21835  MULTIPOLYGON Z (((-1608290.598 1922634.713 0.0...\n",
      "21836  MULTIPOLYGON Z (((-1614593.075 1938374.232 0.0...\n",
      "21837  POLYGON Z ((-1610555.586 1924687.995 0.000, -1...\n",
      "\n",
      "[21838 rows x 1 columns]\n"
     ]
    }
   ],
   "source": [
    "print(shapefile)"
   ]
  },
  {
   "cell_type": "code",
   "execution_count": null,
   "id": "80e2ee3f-eaeb-46cd-b718-8ba11c6454c7",
   "metadata": {},
   "outputs": [],
   "source": []
  }
 ],
 "metadata": {
  "kernelspec": {
   "display_name": "Python 3 (ipykernel)",
   "language": "python",
   "name": "python3"
  },
  "language_info": {
   "codemirror_mode": {
    "name": "ipython",
    "version": 3
   },
   "file_extension": ".py",
   "mimetype": "text/x-python",
   "name": "python",
   "nbconvert_exporter": "python",
   "pygments_lexer": "ipython3",
   "version": "3.8.10"
  }
 },
 "nbformat": 4,
 "nbformat_minor": 5
}
