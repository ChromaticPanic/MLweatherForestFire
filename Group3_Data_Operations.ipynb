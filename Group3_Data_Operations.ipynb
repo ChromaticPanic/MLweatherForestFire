{
 "cells": [
  {
   "cell_type": "markdown",
   "id": "cf8e8455-a89d-418f-8ffe-4c93fadbcef0",
   "metadata": {},
   "source": [
    "#Group3_Data_Operations"
   ]
  },
  {
   "cell_type": "code",
   "execution_count": null,
   "id": "17828805-dcb4-44d0-a053-8ca77d030e51",
   "metadata": {},
   "outputs": [],
   "source": [
    "#%pip install pyshp pyproj psycopg2 pprint"
   ]
  },
  {
   "cell_type": "code",
   "execution_count": 1,
   "id": "fb7c6eba-2357-4ab1-8ecb-1870367fa315",
   "metadata": {
    "cellView": "form",
    "id": "9n9_cTveKmse"
   },
   "outputs": [
    {
     "name": "stderr",
     "output_type": "stream",
     "text": [
      "2022-11-17 05:32:42.475693: I tensorflow/core/platform/cpu_feature_guard.cc:193] This TensorFlow binary is optimized with oneAPI Deep Neural Network Library (oneDNN) to use the following CPU instructions in performance-critical operations:  AVX2 FMA\n",
      "To enable them in other operations, rebuild TensorFlow with the appropriate compiler flags.\n",
      "2022-11-17 05:32:42.580592: E tensorflow/stream_executor/cuda/cuda_blas.cc:2981] Unable to register cuBLAS factory: Attempting to register factory for plugin cuBLAS when one has already been registered\n"
     ]
    }
   ],
   "source": [
    "#@title Import relevant modules\n",
    "import pandas as pd\n",
    "import geopandas as gpd\n",
    "import tensorflow as tf\n",
    "#import fiona\n",
    "#import shapefile as pyshp \n",
    "from matplotlib import pyplot as plt\n",
    "\n",
    "# The following lines adjust the granularity of reporting. \n",
    "pd.options.display.max_rows = 10\n",
    "pd.options.display.float_format = \"{:.1f}\".format\n"
   ]
  },
  {
   "cell_type": "code",
   "execution_count": 2,
   "id": "bce28fb6-8c0e-41d8-aba1-be89bd45c8c6",
   "metadata": {},
   "outputs": [],
   "source": [
    "# myShapeFile = \"Data/NFDB_poly_20210707_large_fires.geojson\"\n",
    "myShapeFile = \"Data/NFDB_poly_20210707_large_fires.csv\""
   ]
  },
  {
   "cell_type": "code",
   "execution_count": null,
   "id": "705141be-d0c6-4d8f-9a9b-0a0173c875ba",
   "metadata": {},
   "outputs": [],
   "source": [
    "# shape = pyshp.Reader(myShapeFile)\n",
    "# shape.shapeType"
   ]
  },
  {
   "cell_type": "code",
   "execution_count": null,
   "id": "e8e363c4-5f30-43c9-9f93-82eaef353086",
   "metadata": {},
   "outputs": [],
   "source": [
    "# s = shape.shape(0)\n",
    "# geoj = s.__geo_interface__\n",
    "# geoj[\"type\"]"
   ]
  },
  {
   "cell_type": "code",
   "execution_count": null,
   "id": "6cf6d222-79f8-426a-8391-4ea40de6b580",
   "metadata": {},
   "outputs": [],
   "source": [
    "# #first feature of the shapefile\n",
    "# feature = shape.shapeRecords()[0]\n",
    "# first = feature.shape.__geo_interface__  \n",
    "# print(first) # (GeoJSON format)"
   ]
  },
  {
   "cell_type": "code",
   "execution_count": null,
   "id": "f3910509-36ee-4425-972c-f39937a4f2e8",
   "metadata": {},
   "outputs": [],
   "source": [
    "# shape = fiona.open(myShapeFile)\n",
    "# print(shape.schema)"
   ]
  },
  {
   "cell_type": "code",
   "execution_count": 3,
   "id": "ac1eb6dc-1d50-425c-ae59-c0a6fdf86679",
   "metadata": {},
   "outputs": [],
   "source": [
    "shapefile = gpd.read_file(myShapeFile, encoding=\"utf-8\")\n"
   ]
  },
  {
   "cell_type": "code",
   "execution_count": 4,
   "id": "f1f7d09d-5180-44ef-9616-b18a987bf87f",
   "metadata": {},
   "outputs": [
    {
     "name": "stdout",
     "output_type": "stream",
     "text": [
      "      SRC_AGENCY      FIRE_ID FIRENAME  YEAR MONTH DAY    REP_DATE  \\\n",
      "0             BC  2004-C10175           2004     6  23  2004/06/23   \n",
      "1             BC  2004-C10176           2004     6  23  2004/06/23   \n",
      "2             BC  2004-C50114           2004     6  20  2004/06/20   \n",
      "3             BC  2004-C50125           2004     6  21  2004/06/21   \n",
      "4             BC  2004-C50149           2004     6  22  2004/06/22   \n",
      "...          ...          ...      ...   ...   ...  ..         ...   \n",
      "21833      PC-NA      84NA002           1984     8   9  1984/08/09   \n",
      "21834      PC-NI      92NI001           1992     7   1  1992/07/01   \n",
      "21835      PC-NI      92NI002           1992     7   1  1992/07/01   \n",
      "21836      PC-NI      94NI001           1994     0   0               \n",
      "21837      PC-NI      04NI001           2004     0   0               \n",
      "\n",
      "         DATE_TYPE OUT_DATE     DECADE  ... UNBURN_REM MORE_INFO   POLY_DATE  \\\n",
      "0      Report date           2000-2009  ...                       2007/05/17   \n",
      "1      Report date           2000-2009  ...                       2007/05/17   \n",
      "2      Report date           2000-2009  ...                       2007/05/17   \n",
      "3      Report date           2000-2009  ...                       2007/05/17   \n",
      "4      Report date           2000-2009  ...                       2007/05/17   \n",
      "...            ...      ...        ...  ...        ...       ...         ...   \n",
      "21833                        1980-1989  ...                                    \n",
      "21834                        1990-1999  ...                                    \n",
      "21835                        1990-1999  ...                                    \n",
      "21836                        1990-1999  ...                                    \n",
      "21837                        2000-2009  ...                                    \n",
      "\n",
      "               CFS_REF_ID                              CFS_NOTE1 CFS_NOTE2  \\\n",
      "0          BC-2004-C10175                                                    \n",
      "1          BC-2004-C10176                                                    \n",
      "2          BC-2004-C50114                                                    \n",
      "3          BC-2004-C50125                                                    \n",
      "4          BC-2004-C50149                                                    \n",
      "...                   ...                                    ...       ...   \n",
      "21833  PC-NA-1984-84NA002  Used rep_date from NWT source polygon             \n",
      "21834  PC-NI-1992-92NI001  Used rep_date from NWT source polygon             \n",
      "21835  PC-NI-1992-92NI002  Used rep_date from NWT source polygon             \n",
      "21836  PC-NI-1994-94NI001                 included from PC-NA/NI             \n",
      "21837  PC-NI-2004-04NI001                 included from PC-NA/NI             \n",
      "\n",
      "       AG_SRCFILE    ACQ_DATE SRC_AGY2 geometry  \n",
      "0      H_FIRE_PLY  2011/06/10       BC     None  \n",
      "1      H_FIRE_PLY  2011/06/10       BC     None  \n",
      "2      H_FIRE_PLY  2011/06/10       BC     None  \n",
      "3      H_FIRE_PLY  2011/06/10       BC     None  \n",
      "4      H_FIRE_PLY  2011/06/10       BC     None  \n",
      "...           ...         ...      ...      ...  \n",
      "21833              2017/11/29       PC     None  \n",
      "21834              2017/11/29       PC     None  \n",
      "21835              2017/11/29       PC     None  \n",
      "21836              2017/11/29       PC     None  \n",
      "21837              2017/11/29       PC     None  \n",
      "\n",
      "[21838 rows x 27 columns]\n"
     ]
    }
   ],
   "source": [
    "print(shapefile)"
   ]
  },
  {
   "cell_type": "code",
   "execution_count": null,
   "id": "80e2ee3f-eaeb-46cd-b718-8ba11c6454c7",
   "metadata": {},
   "outputs": [],
   "source": []
  }
 ],
 "metadata": {
  "kernelspec": {
   "display_name": "Python 3 (ipykernel)",
   "language": "python",
   "name": "python3"
  },
  "language_info": {
   "codemirror_mode": {
    "name": "ipython",
    "version": 3
   },
   "file_extension": ".py",
   "mimetype": "text/x-python",
   "name": "python",
   "nbconvert_exporter": "python",
   "pygments_lexer": "ipython3",
   "version": "3.8.10"
  }
 },
 "nbformat": 4,
 "nbformat_minor": 5
}
